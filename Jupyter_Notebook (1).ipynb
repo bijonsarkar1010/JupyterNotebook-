{
 "cells": [
  {
   "cell_type": "markdown",
   "metadata": {},
   "source": [
    "<center>\n",
    "    <img src=\"https://cf-courses-data.s3.us.cloud-object-storage.appdomain.cloud/IBMDeveloperSkillsNetwork-DS0105EN-SkillsNetwork/labs/Module2/images/SN_web_lightmode.png\" width=\"300\" alt=\"cognitiveclass.ai logo\">\n",
    "</center>\n"
   ]
  },
  {
   "cell_type": "markdown",
   "metadata": {},
   "source": [
    "#### Add your code below following the instructions given in the course\n"
   ]
  },
  {
   "cell_type": "markdown",
   "metadata": {},
   "source": [
    "Jupyter first project "
   ]
  },
  {
   "cell_type": "markdown",
   "metadata": {},
   "source": [
    "This is a basic introduction of Jupyter"
   ]
  },
  {
   "cell_type": "markdown",
   "metadata": {},
   "source": [
    "Python \n",
    "R\n",
    "SQL\n",
    "Julia\n",
    "Java\n",
    "MatLab\n",
    "Perl\n",
    "C/C++"
   ]
  },
  {
   "cell_type": "markdown",
   "metadata": {},
   "source": [
    "NumPy\n",
    "Pandas\n",
    "Matplotlib\n",
    "Seaborn\n",
    "Scikit-Learn\n",
    "TensorFlow\n",
    "Keras\n",
    "PyTorch\n",
    "Statsmodels\n",
    "NLTK (Natural Language Toolkit)\n",
    "Gensim\n",
    "XGBoost\n",
    "LightGBM\n",
    "CatBoost\n",
    "Dask\n",
    "Scrapy"
   ]
  },
  {
   "cell_type": "markdown",
   "metadata": {},
   "source": [
    "Data Manipulation\tPandas, NumPy, Dplyr, Data.table\n",
    "\n",
    "Data Visualization\tMatplotlib, Seaborn, Plotly, ggplot2\n",
    "\n",
    "Machine Learning\tScikit-Learn, TensorFlow, Keras, PyTorch, XGBoost\n",
    "\n",
    "Statistical Analysis\tStatsmodels, SciPy, SAS\n",
    "\n",
    "Natural Language Processing\tNLTK, SpaCy, Gensim\n",
    "\n",
    "Database Management\tSQL, MySQL, PostgreSQL\n",
    "\n",
    "Big Data Processing\tHadoop, Spark, Dask\n",
    "\n",
    "Data Cleaning\tOpenRefine, Trifacta\n",
    "\n",
    "Web Scraping\tScrapy, Beautiful Soup\n",
    "\n",
    "Version Control\t----Git, GitHub, Bitbucket\n",
    "\n",
    "Cloud Computing\t----AWS, Google Cloud, Azure\n",
    "\n",
    "Data Warehousing\tSnowflake, BigQuery, Redshift\n"
   ]
  },
  {
   "cell_type": "markdown",
   "metadata": {
    "tags": []
   },
   "source": [
    "arithmetic expression examples\n",
    "\n",
    "Addition        a+b\n",
    "Multiplication  a*b\n",
    "Devesion        a/b\n",
    "Substaction     a-b\n"
   ]
  },
  {
   "cell_type": "code",
   "execution_count": 4,
   "metadata": {
    "tags": []
   },
   "outputs": [
    {
     "name": "stdout",
     "output_type": "stream",
     "text": [
      "5\n",
      "6\n"
     ]
    }
   ],
   "source": [
    "#Addition \n",
    "a = 2 \n",
    "b = 3\n",
    "c =a+b \n",
    "print(c)\n",
    "\n",
    "#Multiplication \n",
    "a = 2 \n",
    "b = 3\n",
    "c =a*b \n",
    "print(c)"
   ]
  },
  {
   "cell_type": "code",
   "execution_count": 6,
   "metadata": {
    "tags": []
   },
   "outputs": [
    {
     "name": "stdin",
     "output_type": "stream",
     "text": [
      "Enter the number of minutes:  150\n"
     ]
    },
    {
     "name": "stdout",
     "output_type": "stream",
     "text": [
      "150 minutes is equal to 2 hours and 30 minutes.\n"
     ]
    }
   ],
   "source": [
    "# Get user input for minutes\n",
    "minutes = int(input(\"Enter the number of minutes: \"))\n",
    "\n",
    "# Calculate hours and remaining minutes\n",
    "hours = minutes // 60\n",
    "remaining_minutes = minutes % 60\n",
    "\n",
    "# Display the result\n",
    "print(f\"{minutes} minutes is equal to {hours} hours and {remaining_minutes} minutes.\")"
   ]
  },
  {
   "cell_type": "markdown",
   "metadata": {},
   "source": [
    "Objectives: \n",
    "\n",
    "Describe GitHub\n",
    "Create a GitHub account\n",
    "Add a project and repo\n",
    "Edit and create a file\n",
    "Upload a file and Commit"
   ]
  },
  {
   "cell_type": "markdown",
   "metadata": {},
   "source": [
    "Authors\n",
    "\n",
    "Romeo Kienzler\n",
    "Malika Singla"
   ]
  }
 ],
 "metadata": {
  "kernelspec": {
   "display_name": "Python",
   "language": "python",
   "name": "conda-env-python-py"
  },
  "language_info": {
   "codemirror_mode": {
    "name": "ipython",
    "version": 3
   },
   "file_extension": ".py",
   "mimetype": "text/x-python",
   "name": "python",
   "nbconvert_exporter": "python",
   "pygments_lexer": "ipython3",
   "version": "3.7.12"
  }
 },
 "nbformat": 4,
 "nbformat_minor": 4
}
